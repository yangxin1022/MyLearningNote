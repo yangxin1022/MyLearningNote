{
 "cells": [
  {
   "cell_type": "code",
   "execution_count": 7,
   "metadata": {},
   "outputs": [],
   "source": [
    "import hashlib\n",
    "import zipfile\n",
    "import tarfile\n",
    "import requests\n",
    "import os\n",
    "\n",
    "\n",
    "\n",
    "#  download the data to the assigned path\n",
    "DATA_URL = 'http://d2l-data.s3-accelerate.amazonaws.com/'\n",
    "DATA_PATH = '../data/'\n",
    "DATA_NAME = 'kaggle_house_test'\n",
    "\n",
    "try:\n",
    "    assert(DATA_NAME in os.listdir(DATA_PATH))\n",
    "except:\n",
    "    os.makedirs(os.path.join(DATA_PATH, DATA_NAME))\n",
    "    fname = 'kaggle_house_pred_train.csv'\n",
    "r = requests.get(DATA_URL, stream=True, verify=True)\n",
    "with open(os.path.join(DATA_PATH, DATA_NAME, fname), 'wb') as f:\n",
    "    f.write(r.content)"
   ]
  },
  {
   "cell_type": "code",
   "execution_count": null,
   "metadata": {},
   "outputs": [],
   "source": []
  }
 ],
 "metadata": {
  "interpreter": {
   "hash": "6e3fb3b94af17b2336c49a5de82acaa44c3b8f6e324b719a96125783e256d8bd"
  },
  "kernelspec": {
   "display_name": "Python 3.10.4 ('d2l')",
   "language": "python",
   "name": "python3"
  },
  "language_info": {
   "codemirror_mode": {
    "name": "ipython",
    "version": 3
   },
   "file_extension": ".py",
   "mimetype": "text/x-python",
   "name": "python",
   "nbconvert_exporter": "python",
   "pygments_lexer": "ipython3",
   "version": "3.10.4"
  },
  "orig_nbformat": 4
 },
 "nbformat": 4,
 "nbformat_minor": 2
}
