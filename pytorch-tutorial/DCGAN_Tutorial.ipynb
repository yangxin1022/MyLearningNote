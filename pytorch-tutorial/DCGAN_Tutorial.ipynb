{
 "cells": [
  {
   "cell_type": "markdown",
   "metadata": {},
   "source": [
    "# What is a GAN"
   ]
  },
  {
   "cell_type": "markdown",
   "metadata": {},
   "source": [
    "Generative Adversarial Networks 生成对抗网络\n",
    "\n",
    "GANs are a framework for teaching a DL model to capture the training data's distribution so we can generate new data from that same distribution. \n",
    "\n",
    "GANs were inveted by Ian Goodfellow in 2014 and first described in the paper Generative Adversarial Nets. \n",
    "\n",
    "They are made of two distinct models, a generator and a disciminator. The job of the generator is to spawn 'fake' images that look like the training image. The job of the discriminator is to look at an image and output whether or not it is a real trainning image or a fake image from the generator. The equilibrium of this game is when the generator is generating perfect fakes that look as if they came directly from the training data, and the discriminator is left to always guess at 50% confidence that the generator output is real or fake. "
   ]
  },
  {
   "cell_type": "markdown",
   "metadata": {},
   "source": [
    "**Some Notations**\n"
   ]
  },
  {
   "cell_type": "markdown",
   "metadata": {},
   "source": [
    "# What is a DCGAN"
   ]
  },
  {
   "cell_type": "markdown",
   "metadata": {},
   "source": [
    "A DCGAN is a direct extension of the GAN described above, except that it explicitly uses convolutional and convolutional-tranpose layers in the discriminator and generator, respectively. \n",
    "\n",
    "IT was first described by Radford et. al. in the paper *Unsupervised Representation Learning With Deep Convolutional Generative Adversarial Networks*. "
   ]
  },
  {
   "cell_type": "code",
   "execution_count": null,
   "metadata": {},
   "outputs": [],
   "source": []
  }
 ],
 "metadata": {
  "interpreter": {
   "hash": "6e3fb3b94af17b2336c49a5de82acaa44c3b8f6e324b719a96125783e256d8bd"
  },
  "kernelspec": {
   "display_name": "Python 3.10.4 ('d2l')",
   "language": "python",
   "name": "python3"
  },
  "language_info": {
   "name": "python",
   "version": "3.10.4"
  },
  "orig_nbformat": 4
 },
 "nbformat": 4,
 "nbformat_minor": 2
}
